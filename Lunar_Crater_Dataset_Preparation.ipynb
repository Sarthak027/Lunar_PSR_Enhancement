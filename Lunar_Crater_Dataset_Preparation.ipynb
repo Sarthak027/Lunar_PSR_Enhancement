{
 "cells": [
  {
   "cell_type": "markdown",
   "metadata": {},
   "source": [
    "## Lunar Crater Dataset Preparation"
   ]
  },
  {
   "cell_type": "markdown",
   "metadata": {},
   "source": [
    "## Introduction\n",
    "In this notebook, we will prepare the Chandrayaan 2 OHRC Lunar Crater Dataset for use in training a deep learning model. This includes loading the dataset, exploring it, pre-processing images, and preparing data generators.\n"
   ]
  },
  {
   "cell_type": "markdown",
   "metadata": {},
   "source": [
    "Create and Load the Dataset"
   ]
  },
  {
   "cell_type": "code",
   "execution_count": null,
   "metadata": {},
   "outputs": [],
   "source": [
    "import pandas as pd\n",
    "\n",
    "# Load CSV files\n",
    "train_annotations = pd.read_csv('E:/SIH1732/Chandrayaan_2_OHRC_Lunar_Crater_Dataset.v4i.tensorflow/train/annotations.csv')\n",
    "valid_annotations = pd.read_csv('E:/SIH1732/Chandrayaan_2_OHRC_Lunar_Crater_Dataset.v4i.tensorflow/valid/annotations.csv')\n",
    "\n",
    "# Display the first few rows of the annotations to understand the structure\n",
    "print(\"Training Annotations:\")\n",
    "print(train_annotations.head())\n",
    "print(\"\\nValidation Annotations:\")\n",
    "print(valid_annotations.head())\n"
   ]
  },
  {
   "cell_type": "markdown",
   "metadata": {},
   "source": [
    "Pre-processing  Images"
   ]
  },
  {
   "cell_type": "code",
   "execution_count": null,
   "metadata": {},
   "outputs": [],
   "source": [
    "import cv2\n",
    "import numpy as np\n",
    "\n",
    "def preprocess_image(image_path, target_size=(640, 640)):\n",
    "    image = cv2.imread(image_path, cv2.IMREAD_GRAYSCALE)\n",
    "    image = cv2.resize(image, target_size)\n",
    "    image = image / 255.0  # Normalize to [0, 1]\n",
    "    return image\n",
    "\n",
    "# Test preprocessing on a sample image\n",
    "sample_image_path = 'E:/SIH1732/Chandrayaan_2_OHRC_Lunar_Crater_Dataset.v4i.tensorflow/train/2_jpg.rf.0ffdaf7fc98b8a0a16a3f00c88bb7faa.jpg'\n",
    "processed_image = preprocess_image(sample_image_path)\n",
    "print(processed_image.shape)  # Should print (640, 640)\n"
   ]
  },
  {
   "cell_type": "markdown",
   "metadata": {},
   "source": [
    "Splitting the Data"
   ]
  },
  {
   "cell_type": "code",
   "execution_count": null,
   "metadata": {},
   "outputs": [],
   "source": [
    "import os\n",
    "\n",
    "def extract_paths_and_labels(annotations, data_dir):\n",
    "    image_paths = [os.path.join(data_dir, filename) for filename in annotations['filename']]\n",
    "    bboxes = annotations[['xmin', 'ymin', 'xmax', 'ymax']].values\n",
    "    labels = annotations['class'].values\n",
    "    return image_paths, bboxes, labels\n",
    "\n",
    "# Define data directories\n",
    "train_data_dir = 'E:/SIH1732/Chandrayaan_2_OHRC_Lunar_Crater_Dataset.v4i.tensorflow/train'\n",
    "valid_data_dir = 'E:/SIH1732/Chandrayaan_2_OHRC_Lunar_Crater_Dataset.v4i.tensorflow/valid'\n",
    "\n",
    "# Extract paths and labels\n",
    "train_image_paths, train_bboxes, train_labels = extract_paths_and_labels(train_annotations, train_data_dir)\n",
    "valid_image_paths, valid_bboxes, valid_labels = extract_paths_and_labels(valid_annotations, valid_data_dir)\n",
    "\n",
    "print(f\"Number of training images: {len(train_image_paths)}\")\n",
    "print(f\"Number of validation images: {len(valid_image_paths)}\")\n"
   ]
  },
  {
   "cell_type": "markdown",
   "metadata": {},
   "source": [
    "Creating Data Generators"
   ]
  },
  {
   "cell_type": "code",
   "execution_count": null,
   "metadata": {},
   "outputs": [],
   "source": [
    "from tensorflow.keras.utils import Sequence\n",
    "\n",
    "class LunarCraterDataGenerator(Sequence):\n",
    "    def __init__(self, image_paths, bboxes, labels, batch_size=32, image_size=(640, 640)):\n",
    "        self.image_paths = image_paths\n",
    "        self.bboxes = bboxes\n",
    "        self.labels = labels\n",
    "        self.batch_size = batch_size\n",
    "        self.image_size = image_size\n",
    "\n",
    "    def __len__(self):\n",
    "        return int(np.ceil(len(self.image_paths) / self.batch_size))\n",
    "\n",
    "    def __getitem__(self, index):\n",
    "        batch_image_paths = self.image_paths[index * self.batch_size:(index + 1) * self.batch_size]\n",
    "        batch_bboxes = self.bboxes[index * self.batch_size:(index + 1) * self.batch_size]\n",
    "        batch_labels = self.labels[index * self.batch_size:(index + 1) * self.batch_size]\n",
    "\n",
    "        images = [preprocess_image(path) for path in batch_image_paths]\n",
    "        return np.array(images), {'bboxes': np.array(batch_bboxes), 'labels': np.array(batch_labels)}\n",
    "\n",
    "    def on_epoch_end(self):\n",
    "        # Shuffle data at the end of each epoch (if needed)\n",
    "        pass\n",
    "\n",
    "# Create data generators\n",
    "train_generator = LunarCraterDataGenerator(train_image_paths, train_bboxes, train_labels)\n",
    "valid_generator = LunarCraterDataGenerator(valid_image_paths, valid_bboxes, valid_labels)\n",
    "\n",
    "# Test the generator (optional)\n",
    "for images, labels in train_generator:\n",
    "    print(images.shape)  # Should print (batch_size, 640, 640)\n",
    "    print(labels['bboxes'].shape)  # Should print (batch_size, number_of_bboxes, 4)\n",
    "    print(labels['labels'].shape)  # Should print (batch_size, number_of_bboxes)\n",
    "    break\n"
   ]
  }
 ],
 "metadata": {
  "kernelspec": {
   "display_name": "base",
   "language": "python",
   "name": "python3"
  },
  "language_info": {
   "codemirror_mode": {
    "name": "ipython",
    "version": 3
   },
   "file_extension": ".py",
   "mimetype": "text/x-python",
   "name": "python",
   "nbconvert_exporter": "python",
   "pygments_lexer": "ipython3",
   "version": "3.12.4"
  }
 },
 "nbformat": 4,
 "nbformat_minor": 2
}
